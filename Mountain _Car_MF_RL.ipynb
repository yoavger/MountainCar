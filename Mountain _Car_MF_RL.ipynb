{
 "cells": [
  {
   "cell_type": "markdown",
   "metadata": {},
   "source": [
    "### This program will solve the  Mountain - Car problem using RL Q-learning¶\n",
    " - Mountain - Car defines \"solving\" as getting average reward of -110.0 over 100 consecutive trials\n",
    " \n",
    " - Q-learning formula -\n",
    "\n",
    " <img src= \"q_learning.svg\" align=\"left\">"
   ]
  },
  {
   "cell_type": "code",
   "execution_count": 1,
   "metadata": {},
   "outputs": [],
   "source": [
    "import gym\n",
    "import numpy as np\n",
    "import matplotlib.pyplot as plt\n",
    "import seaborn as sns"
   ]
  },
  {
   "cell_type": "code",
   "execution_count": 2,
   "metadata": {},
   "outputs": [],
   "source": [
    "env = gym.make(\"MountainCar-v0\")"
   ]
  },
  {
   "cell_type": "code",
   "execution_count": 3,
   "metadata": {},
   "outputs": [
    {
     "name": "stdout",
     "output_type": "stream",
     "text": [
      "3\n"
     ]
    }
   ],
   "source": [
    "# print the action space size\n",
    "action_size = env.action_space.n\n",
    "print(action_size)"
   ]
  },
  {
   "cell_type": "code",
   "execution_count": 4,
   "metadata": {},
   "outputs": [
    {
     "name": "stdout",
     "output_type": "stream",
     "text": [
      "[0.6  0.07]\n",
      "[-1.2  -0.07]\n",
      "0.5\n"
     ]
    }
   ],
   "source": [
    "# print state space \n",
    "print(env.observation_space.high)\n",
    "print(env.observation_space.low)\n",
    "print(env.goal_position)"
   ]
  },
  {
   "cell_type": "code",
   "execution_count": 5,
   "metadata": {},
   "outputs": [
    {
     "name": "stdout",
     "output_type": "stream",
     "text": [
      "[0.09  0.007]\n"
     ]
    }
   ],
   "source": [
    "N = 20 # how many buckets\n",
    "windth_of_buckets = (env.observation_space.high - env.observation_space.low)/N\n",
    "print (windth_of_buckets)"
   ]
  },
  {
   "cell_type": "code",
   "execution_count": 6,
   "metadata": {},
   "outputs": [],
   "source": [
    "# this funcation is given a state and transrom it to corresponding discrete value\n",
    "def get_discrete_value(state):\n",
    "    return (((state - env.observation_space.low) % N) / windth_of_buckets).astype(int)"
   ]
  },
  {
   "cell_type": "code",
   "execution_count": 11,
   "metadata": {},
   "outputs": [],
   "source": [
    "# initialize a Q - table of size 20X20X3,entry for each of the 3 action and pair of states\n",
    "q_table = np.random.uniform(low = -2 ,high = 0 , size = (N,N,action_size))\n",
    "re_array = []"
   ]
  },
  {
   "cell_type": "code",
   "execution_count": 12,
   "metadata": {},
   "outputs": [],
   "source": [
    "# set standard RL parameters\n",
    "alpha = 0.1   # Learning Rate\n",
    "gemma = 0.99    # Discount Factor\n",
    "\n",
    "# Number of episodes \n",
    "num_of_episode = 3000\n",
    "\n",
    "#  Exploration/Exploitation  parameters\n",
    "epsilon = 1.0  # Exploration rate\n",
    "max_epsilon = 1.0  # Exploration probability at start\n",
    "min_epsilon = 0.01  # Minimum exploration probability\n",
    "decay_rate = 0.01  # Exponential decay rate for exploration prob"
   ]
  },
  {
   "cell_type": "code",
   "execution_count": 13,
   "metadata": {},
   "outputs": [
    {
     "name": "stdout",
     "output_type": "stream",
     "text": [
      "End Training\n"
     ]
    }
   ],
   "source": [
    "# train the agent\n",
    "for episode in range(num_of_episode):\n",
    "    \n",
    "    cur_re = 0\n",
    "    \n",
    "    # Reset the environment\n",
    "    state = env.reset()\n",
    "    \n",
    "    # discretize the state  \n",
    "    position, velocity = get_discrete_value(state)\n",
    "    \n",
    "    done = False\n",
    "    \n",
    "#     # render laste 10 episodes\n",
    "#     if (episode > (num_of_episode-10)):\n",
    "#         render = True\n",
    "#     else:\n",
    "#         render = False\n",
    "    \n",
    "    while not done:\n",
    "                \n",
    "#         if render:\n",
    "#             env.render()\n",
    "        \n",
    "        # choose an action according to epsilon-greedy policy\n",
    "        # If rand number < less than epsilon - take a random choice (exploration) \n",
    "        if np.random.uniform(0,1) < epsilon:\n",
    "            action = np.random.randint(0,2)\n",
    "       \n",
    "        # else take action with maximum expected future reward(exploitation)\n",
    "        else:\n",
    "            action = np.argmax(q_table[position,velocity,:])\n",
    "       \n",
    "        # take a step \n",
    "        new_state, reward, done, info = env.step(action)\n",
    "        \n",
    "        cur_re += reward\n",
    "       \n",
    "        # discretize new state  \n",
    "        new_position, new_velocity = get_discrete_value(new_state)\n",
    "        \n",
    "        # Update Q(s,a):= Q(s,a) + alpha * [R(s,a) + gamma * max Q(s',a') - Q(s,a)]\n",
    "        if not done:\n",
    "            q_table[position,velocity,action] = q_table[position,velocity,action] + alpha *(reward + gemma \n",
    "                                                * np.max(q_table[new_position,new_velocity]) \n",
    "                                                 - q_table[position,velocity,action])\n",
    "                                                \n",
    "        # if goal is reach update Q-value (reward = 0) \n",
    "        elif new_state[0] >= env.goal_position: \n",
    "            q_table[position,velocity,action] = 0\n",
    "        \n",
    "        # set new state as cuurent state\n",
    "        position = new_position \n",
    "        velocity = new_velocity\n",
    "   \n",
    "    # decrease epsilon \n",
    "    epsilon = min_epsilon + (max_epsilon - min_epsilon) * np.exp(-decay_rate * episode)\n",
    "    re_array.append(cur_re)\n",
    "    \n",
    "print(\"End Training\")"
   ]
  },
  {
   "cell_type": "code",
   "execution_count": 15,
   "metadata": {},
   "outputs": [
    {
     "name": "stdout",
     "output_type": "stream",
     "text": [
      "Average Reward of 100 games is -146.72433333333333\n"
     ]
    }
   ],
   "source": [
    "post_train = []\n",
    "\n",
    "# see how agent preforms after training\n",
    "num_of_episode_after_training = 3000\n",
    "total_reward = 0\n",
    "\n",
    "for episode in range(num_of_episode_after_training):\n",
    "    \n",
    "    cur_re = 0\n",
    "    \n",
    "    state = env.reset()\n",
    "    \n",
    "    position, velocity = get_discrete_value(state)\n",
    "    \n",
    "    done = False\n",
    "\n",
    "    while not done:\n",
    "         \n",
    "        # Take the action that have the maximum expected future reward given that state\n",
    "        action = np.argmax(q_table[position,velocity,:])\n",
    "\n",
    "        new_state, reward, done, info = env.step(action)\n",
    "\n",
    "        new_position, new_velocity = get_discrete_value(new_state)\n",
    "\n",
    "        position = new_position \n",
    "        velocity = new_velocity\n",
    "        \n",
    "        cur_re += reward\n",
    "\n",
    "        total_reward += reward\n",
    "    \n",
    "    post_train.append(cur_re)\n",
    "\n",
    "print(\"Average Reward of 100 games is {}\".format(total_reward/num_of_episode_after_training))    \n",
    "env.close()"
   ]
  },
  {
   "cell_type": "code",
   "execution_count": 16,
   "metadata": {},
   "outputs": [],
   "source": [
    "a = np.array(re_array)\n",
    "b = np.array(post_train)"
   ]
  },
  {
   "cell_type": "code",
   "execution_count": 55,
   "metadata": {},
   "outputs": [],
   "source": [
    "c = np.array([0,30,55])\n",
    "d = np.repeat(55,48)\n",
    "e = np.arange(2,50)"
   ]
  },
  {
   "cell_type": "code",
   "execution_count": 17,
   "metadata": {},
   "outputs": [],
   "source": [
    "new_arr = np.concatenate((a,b),axis=0)"
   ]
  },
  {
   "cell_type": "code",
   "execution_count": 58,
   "metadata": {},
   "outputs": [
    {
     "data": {
      "image/png": "[encoded data removed]",
      "text/plain": [
       "<Figure size 720x576 with 1 Axes>"
      ]
     },
     "metadata": {},
     "output_type": "display_data"
    }
   ],
   "source": [
    "y = np.array(new_arr)\n",
    "y = y + 200\n",
    "m = np.mean(y.reshape(-1, 120), axis=1)\n",
    "x = np.arange(0,50)\n",
    "plt.figure(figsize=(10,8))\n",
    "plt.plot(x,m,label='MF')\n",
    "plt.plot(c,label=\"Humen\",color='red')\n",
    "plt.plot(e,d,'--',color='red')\n",
    "plt.legend()\n",
    "plt.xlabel(\"Episode X100\",size=16)\n",
    "plt.ylabel(\"Average reward 100 consecutive episode\",size=16)\n",
    "plt.show()"
   ]
  }
 ],
 "metadata": {
  "kernelspec": {
   "display_name": "Python 3",
   "language": "python",
   "name": "python3"
  },
  "language_info": {
   "codemirror_mode": {
    "name": "ipython",
    "version": 3
   },
   "file_extension": ".py",
   "mimetype": "text/x-python",
   "name": "python",
   "nbconvert_exporter": "python",
   "pygments_lexer": "ipython3",
   "version": "3.8.6"
  }
 },
 "nbformat": 4,
 "nbformat_minor": 4
}
